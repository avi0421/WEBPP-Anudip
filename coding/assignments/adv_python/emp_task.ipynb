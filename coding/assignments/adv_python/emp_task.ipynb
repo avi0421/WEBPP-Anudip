{
 "cells": [
  {
   "cell_type": "code",
   "execution_count": 3,
   "metadata": {},
   "outputs": [
    {
     "name": "stdout",
     "output_type": "stream",
     "text": [
      "Sales Employees in Uppercase: ['JOHN DOE', 'EMILY DAVIS']\n",
      "Email Domains: ['example.com', 'anotherdomain.org', 'company.com']\n",
      "HTTPS URLs: ['https://secure-site.com', 'https://another-secure-site.com']\n"
     ]
    }
   ],
   "source": [
    "# Employee records\n",
    "employees = [\n",
    "    {\"name\": \"John Doe\", \"department\": \"Sales\", \"salary\": 50000},\n",
    "    {\"name\": \"Jane Smith\", \"department\": \"Marketing\", \"salary\": 60000},\n",
    "    {\"name\": \"Emily Davis\", \"department\": \"Sales\", \"salary\": 55000},\n",
    "    {\"name\": \"Michael Brown\", \"department\": \"HR\", \"salary\": 48000}\n",
    "]\n",
    "\n",
    "# Q.1) New list with names in 'Sales' department, in uppercase\n",
    "sales_names_uppercase = [employee[\"name\"].upper() for employee in employees if employee[\"department\"] == \"Sales\"]\n",
    "print(\"Sales Employees in Uppercase:\", sales_names_uppercase)\n",
    "\n",
    "# List of email addresses\n",
    "emails = [\n",
    "    \"john.doe@example.com\",\n",
    "    \"jane.smith@anotherdomain.org\",\n",
    "    \"emily.davis@company.com\"\n",
    "]\n",
    "\n",
    "# Q.2) Extract the domain part\n",
    "domains = [email.split('@')[1] for email in emails]\n",
    "print(\"Email Domains:\", domains)\n",
    "\n",
    "# List of URLs\n",
    "urls = [\n",
    "    \"http://example.com\",\n",
    "    \"https://secure-site.com\",\n",
    "    \"ftp://files.example.org\",\n",
    "    \"https://another-secure-site.com\"\n",
    "]\n",
    "\n",
    "# Q.3) Filter URLs that start with 'https'\n",
    "https_urls = [url for url in urls if url.startswith('https')]\n",
    "print(\"HTTPS URLs:\", https_urls)\n"
   ]
  }
 ],
 "metadata": {
  "kernelspec": {
   "display_name": "Python 3",
   "language": "python",
   "name": "python3"
  },
  "language_info": {
   "codemirror_mode": {
    "name": "ipython",
    "version": 3
   },
   "file_extension": ".py",
   "mimetype": "text/x-python",
   "name": "python",
   "nbconvert_exporter": "python",
   "pygments_lexer": "ipython3",
   "version": "3.13.0"
  }
 },
 "nbformat": 4,
 "nbformat_minor": 2
}
